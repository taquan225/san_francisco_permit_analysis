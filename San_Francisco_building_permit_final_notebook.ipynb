{
 "cells": [
  {
   "cell_type": "markdown",
   "metadata": {},
   "source": [
    "### 1. Introduction\n",
    "---"
   ]
  },
  {
   "cell_type": "markdown",
   "metadata": {},
   "source": [
    "The project will be about predicting the amount of time that it will take to be approved for the permit based on the features that they have. This will be done by using the San Francisco Building Permit Data that was taken from Kaggle. This dataset is all the information that is collected that pertains to the permit issued by the government. These are all general information such as dates, type of permit, costs, and other kinds of needed information. The objectives for this are to create a classification that can be used to predict the amount of days it takes. The kind of algorithm that I plan on using is a Naive Bayes classifier, KNN, and a decision tree to predict that kind of category that it will fall into. These categories will be: Same day, A week, 1-2 weeks, 2 weeks - 1 month, 1-2 months, 2-3 months, and so on. This will be done by using the various features within the dataset as I have a mixture of both numerical and categorical features. From what I were able to find, most of the prediction methods generally had the same accuracy and weren't very good at predicting this. This could be explained by the dataset being very imbalanced where one of the categories was almost 80% of the data. "
   ]
  },
  {
   "cell_type": "markdown",
   "metadata": {},
   "source": [
    "### 2. EDA\n",
    "---"
   ]
  },
  {
   "cell_type": "code",
   "execution_count": 2,
   "metadata": {},
   "outputs": [],
   "source": [
    "#Import in the necessary libraries \n",
    "import numpy as np\n",
    "import pandas as pd\n",
    "import matplotlib.pyplot as plt\n",
    "from matplotlib.colors import ListedColormap\n",
    "from sklearn import neighbors\n",
    "import seaborn as sns\n",
    "\n",
    "%matplotlib inline"
   ]
  },
  {
   "cell_type": "code",
   "execution_count": 3,
   "metadata": {},
   "outputs": [
    {
     "name": "stderr",
     "output_type": "stream",
     "text": [
      "C:\\Users\\taqua\\Anaconda3\\lib\\site-packages\\IPython\\core\\interactiveshell.py:3072: DtypeWarning: Columns (22,32) have mixed types.Specify dtype option on import or set low_memory=False.\n",
      "  interactivity=interactivity, compiler=compiler, result=result)\n"
     ]
    }
   ],
   "source": [
    "#Read in the csv file\n",
    "df = pd.read_csv(\"Building_Permits.csv\")"
   ]
  },
  {
   "cell_type": "code",
   "execution_count": 4,
   "metadata": {},
   "outputs": [
    {
     "data": {
      "text/html": [
       "<div>\n",
       "<style scoped>\n",
       "    .dataframe tbody tr th:only-of-type {\n",
       "        vertical-align: middle;\n",
       "    }\n",
       "\n",
       "    .dataframe tbody tr th {\n",
       "        vertical-align: top;\n",
       "    }\n",
       "\n",
       "    .dataframe thead th {\n",
       "        text-align: right;\n",
       "    }\n",
       "</style>\n",
       "<table border=\"1\" class=\"dataframe\">\n",
       "  <thead>\n",
       "    <tr style=\"text-align: right;\">\n",
       "      <th></th>\n",
       "      <th>Permit Number</th>\n",
       "      <th>Permit Type</th>\n",
       "      <th>Permit Type Definition</th>\n",
       "      <th>Permit Creation Date</th>\n",
       "      <th>Block</th>\n",
       "      <th>Lot</th>\n",
       "      <th>Street Number</th>\n",
       "      <th>Street Number Suffix</th>\n",
       "      <th>Street Name</th>\n",
       "      <th>Street Suffix</th>\n",
       "      <th>...</th>\n",
       "      <th>Existing Construction Type</th>\n",
       "      <th>Existing Construction Type Description</th>\n",
       "      <th>Proposed Construction Type</th>\n",
       "      <th>Proposed Construction Type Description</th>\n",
       "      <th>Site Permit</th>\n",
       "      <th>Supervisor District</th>\n",
       "      <th>Neighborhoods - Analysis Boundaries</th>\n",
       "      <th>Zipcode</th>\n",
       "      <th>Location</th>\n",
       "      <th>Record ID</th>\n",
       "    </tr>\n",
       "  </thead>\n",
       "  <tbody>\n",
       "    <tr>\n",
       "      <th>0</th>\n",
       "      <td>201505065519</td>\n",
       "      <td>4</td>\n",
       "      <td>sign - erect</td>\n",
       "      <td>05/06/2015</td>\n",
       "      <td>0326</td>\n",
       "      <td>023</td>\n",
       "      <td>140</td>\n",
       "      <td>NaN</td>\n",
       "      <td>Ellis</td>\n",
       "      <td>St</td>\n",
       "      <td>...</td>\n",
       "      <td>3.0</td>\n",
       "      <td>constr type 3</td>\n",
       "      <td>NaN</td>\n",
       "      <td>NaN</td>\n",
       "      <td>NaN</td>\n",
       "      <td>3.0</td>\n",
       "      <td>Tenderloin</td>\n",
       "      <td>94102.0</td>\n",
       "      <td>(37.785719256680785, -122.40852313194863)</td>\n",
       "      <td>1380611233945</td>\n",
       "    </tr>\n",
       "    <tr>\n",
       "      <th>1</th>\n",
       "      <td>201604195146</td>\n",
       "      <td>4</td>\n",
       "      <td>sign - erect</td>\n",
       "      <td>04/19/2016</td>\n",
       "      <td>0306</td>\n",
       "      <td>007</td>\n",
       "      <td>440</td>\n",
       "      <td>NaN</td>\n",
       "      <td>Geary</td>\n",
       "      <td>St</td>\n",
       "      <td>...</td>\n",
       "      <td>3.0</td>\n",
       "      <td>constr type 3</td>\n",
       "      <td>NaN</td>\n",
       "      <td>NaN</td>\n",
       "      <td>NaN</td>\n",
       "      <td>3.0</td>\n",
       "      <td>Tenderloin</td>\n",
       "      <td>94102.0</td>\n",
       "      <td>(37.78733980600732, -122.41063199757738)</td>\n",
       "      <td>1420164406718</td>\n",
       "    </tr>\n",
       "    <tr>\n",
       "      <th>2</th>\n",
       "      <td>201605278609</td>\n",
       "      <td>3</td>\n",
       "      <td>additions alterations or repairs</td>\n",
       "      <td>05/27/2016</td>\n",
       "      <td>0595</td>\n",
       "      <td>203</td>\n",
       "      <td>1647</td>\n",
       "      <td>NaN</td>\n",
       "      <td>Pacific</td>\n",
       "      <td>Av</td>\n",
       "      <td>...</td>\n",
       "      <td>1.0</td>\n",
       "      <td>constr type 1</td>\n",
       "      <td>1.0</td>\n",
       "      <td>constr type 1</td>\n",
       "      <td>NaN</td>\n",
       "      <td>3.0</td>\n",
       "      <td>Russian Hill</td>\n",
       "      <td>94109.0</td>\n",
       "      <td>(37.7946573324287, -122.42232562979227)</td>\n",
       "      <td>1424856504716</td>\n",
       "    </tr>\n",
       "    <tr>\n",
       "      <th>3</th>\n",
       "      <td>201611072166</td>\n",
       "      <td>8</td>\n",
       "      <td>otc alterations permit</td>\n",
       "      <td>11/07/2016</td>\n",
       "      <td>0156</td>\n",
       "      <td>011</td>\n",
       "      <td>1230</td>\n",
       "      <td>NaN</td>\n",
       "      <td>Pacific</td>\n",
       "      <td>Av</td>\n",
       "      <td>...</td>\n",
       "      <td>5.0</td>\n",
       "      <td>wood frame (5)</td>\n",
       "      <td>5.0</td>\n",
       "      <td>wood frame (5)</td>\n",
       "      <td>NaN</td>\n",
       "      <td>3.0</td>\n",
       "      <td>Nob Hill</td>\n",
       "      <td>94109.0</td>\n",
       "      <td>(37.79595867909168, -122.41557405519474)</td>\n",
       "      <td>1443574295566</td>\n",
       "    </tr>\n",
       "    <tr>\n",
       "      <th>4</th>\n",
       "      <td>201611283529</td>\n",
       "      <td>6</td>\n",
       "      <td>demolitions</td>\n",
       "      <td>11/28/2016</td>\n",
       "      <td>0342</td>\n",
       "      <td>001</td>\n",
       "      <td>950</td>\n",
       "      <td>NaN</td>\n",
       "      <td>Market</td>\n",
       "      <td>St</td>\n",
       "      <td>...</td>\n",
       "      <td>3.0</td>\n",
       "      <td>constr type 3</td>\n",
       "      <td>NaN</td>\n",
       "      <td>NaN</td>\n",
       "      <td>NaN</td>\n",
       "      <td>6.0</td>\n",
       "      <td>Tenderloin</td>\n",
       "      <td>94102.0</td>\n",
       "      <td>(37.78315261897309, -122.40950883997789)</td>\n",
       "      <td>144548169992</td>\n",
       "    </tr>\n",
       "  </tbody>\n",
       "</table>\n",
       "<p>5 rows × 43 columns</p>\n",
       "</div>"
      ],
      "text/plain": [
       "  Permit Number  Permit Type            Permit Type Definition  \\\n",
       "0  201505065519            4                      sign - erect   \n",
       "1  201604195146            4                      sign - erect   \n",
       "2  201605278609            3  additions alterations or repairs   \n",
       "3  201611072166            8            otc alterations permit   \n",
       "4  201611283529            6                       demolitions   \n",
       "\n",
       "  Permit Creation Date Block  Lot  Street Number Street Number Suffix  \\\n",
       "0           05/06/2015  0326  023            140                  NaN   \n",
       "1           04/19/2016  0306  007            440                  NaN   \n",
       "2           05/27/2016  0595  203           1647                  NaN   \n",
       "3           11/07/2016  0156  011           1230                  NaN   \n",
       "4           11/28/2016  0342  001            950                  NaN   \n",
       "\n",
       "  Street Name Street Suffix  ...  Existing Construction Type  \\\n",
       "0       Ellis            St  ...                         3.0   \n",
       "1       Geary            St  ...                         3.0   \n",
       "2     Pacific            Av  ...                         1.0   \n",
       "3     Pacific            Av  ...                         5.0   \n",
       "4      Market            St  ...                         3.0   \n",
       "\n",
       "  Existing Construction Type Description Proposed Construction Type  \\\n",
       "0                          constr type 3                        NaN   \n",
       "1                          constr type 3                        NaN   \n",
       "2                          constr type 1                        1.0   \n",
       "3                         wood frame (5)                        5.0   \n",
       "4                          constr type 3                        NaN   \n",
       "\n",
       "  Proposed Construction Type Description Site Permit Supervisor District  \\\n",
       "0                                    NaN         NaN                 3.0   \n",
       "1                                    NaN         NaN                 3.0   \n",
       "2                          constr type 1         NaN                 3.0   \n",
       "3                         wood frame (5)         NaN                 3.0   \n",
       "4                                    NaN         NaN                 6.0   \n",
       "\n",
       "  Neighborhoods - Analysis Boundaries  Zipcode  \\\n",
       "0                          Tenderloin  94102.0   \n",
       "1                          Tenderloin  94102.0   \n",
       "2                        Russian Hill  94109.0   \n",
       "3                            Nob Hill  94109.0   \n",
       "4                          Tenderloin  94102.0   \n",
       "\n",
       "                                    Location      Record ID  \n",
       "0  (37.785719256680785, -122.40852313194863)  1380611233945  \n",
       "1   (37.78733980600732, -122.41063199757738)  1420164406718  \n",
       "2    (37.7946573324287, -122.42232562979227)  1424856504716  \n",
       "3   (37.79595867909168, -122.41557405519474)  1443574295566  \n",
       "4   (37.78315261897309, -122.40950883997789)   144548169992  \n",
       "\n",
       "[5 rows x 43 columns]"
      ]
     },
     "execution_count": 4,
     "metadata": {},
     "output_type": "execute_result"
    }
   ],
   "source": [
    "#Check the top of the data to see how it looks\n",
    "df.head()"
   ]
  },
  {
   "cell_type": "code",
   "execution_count": 5,
   "metadata": {},
   "outputs": [
    {
     "data": {
      "text/plain": [
       "(198900, 43)"
      ]
     },
     "execution_count": 5,
     "metadata": {},
     "output_type": "execute_result"
    }
   ],
   "source": [
    "#Check the shape\n",
    "df.shape"
   ]
  },
  {
   "cell_type": "code",
   "execution_count": 6,
   "metadata": {},
   "outputs": [
    {
     "data": {
      "text/plain": [
       "Permit Number                                  0\n",
       "Permit Type                                    0\n",
       "Permit Type Definition                         0\n",
       "Permit Creation Date                           0\n",
       "Block                                          0\n",
       "Lot                                            0\n",
       "Street Number                                  0\n",
       "Street Number Suffix                      196684\n",
       "Street Name                                    0\n",
       "Street Suffix                               2768\n",
       "Unit                                      169421\n",
       "Unit Suffix                               196939\n",
       "Description                                  290\n",
       "Current Status                                 0\n",
       "Current Status Date                            0\n",
       "Filed Date                                     0\n",
       "Issued Date                                14940\n",
       "Completed Date                            101709\n",
       "First Construction Document Date           14946\n",
       "Structural Notification                   191978\n",
       "Number of Existing Stories                 42784\n",
       "Number of Proposed Stories                 42868\n",
       "Voluntary Soft-Story Retrofit             198865\n",
       "Fire Only Permit                          180073\n",
       "Permit Expiration Date                     51880\n",
       "Estimated Cost                             38066\n",
       "Revised Cost                                6066\n",
       "Existing Use                               41114\n",
       "Existing Units                             51538\n",
       "Proposed Use                               42439\n",
       "Proposed Units                             50911\n",
       "Plansets                                   37309\n",
       "TIDF Compliance                           198898\n",
       "Existing Construction Type                 43366\n",
       "Existing Construction Type Description     43366\n",
       "Proposed Construction Type                 43162\n",
       "Proposed Construction Type Description     43162\n",
       "Site Permit                               193541\n",
       "Supervisor District                         1717\n",
       "Neighborhoods - Analysis Boundaries         1725\n",
       "Zipcode                                     1716\n",
       "Location                                    1700\n",
       "Record ID                                      0\n",
       "dtype: int64"
      ]
     },
     "execution_count": 6,
     "metadata": {},
     "output_type": "execute_result"
    }
   ],
   "source": [
    "#Check how many null values I have\n",
    "df.isnull().sum()"
   ]
  },
  {
   "cell_type": "code",
   "execution_count": 7,
   "metadata": {},
   "outputs": [
    {
     "data": {
      "text/plain": [
       "(100587, 43)"
      ]
     },
     "execution_count": 7,
     "metadata": {},
     "output_type": "execute_result"
    }
   ],
   "source": [
    "#drop rows of more than 8 missing values\n",
    "df.dropna(thresh=35, inplace =True)\n",
    "\n",
    "#return new shape of the dataframe\n",
    "df.shape"
   ]
  },
  {
   "cell_type": "code",
   "execution_count": 8,
   "metadata": {},
   "outputs": [],
   "source": [
    "#drop unwanted columns\n",
    "df.drop(columns=['Street Number Suffix', 'Unit', 'Unit Suffix','Structural Notification', 'Completed Date','Structural Notification','Voluntary Soft-Story Retrofit','Fire Only Permit','TIDF Compliance','Site Permit'], inplace = True)\n"
   ]
  },
  {
   "cell_type": "code",
   "execution_count": 9,
   "metadata": {},
   "outputs": [],
   "source": [
    "#Put all of these into a date format\n",
    "df['Permit Creation Date'] = pd.to_datetime(df['Permit Creation Date'])\n",
    "df['Filed Date'] = pd.to_datetime(df['Filed Date'])\n",
    "df['Issued Date'] = pd.to_datetime(df['Issued Date'])\n",
    "df['Current Status Date'] = pd.to_datetime(df['Current Status Date'])\n",
    "df['Permit Expiration Date'] = pd.to_datetime(df['Permit Expiration Date'])"
   ]
  },
  {
   "cell_type": "code",
   "execution_count": 10,
   "metadata": {},
   "outputs": [],
   "source": [
    "#New attribute necessary for my prediction\n",
    "df['Time'] = (df['Issued Date'] - df['Filed Date']) / np.timedelta64(1, 'D')"
   ]
  },
  {
   "cell_type": "code",
   "execution_count": 11,
   "metadata": {},
   "outputs": [
    {
     "data": {
      "text/plain": [
       "3          253.0\n",
       "5           22.0\n",
       "6            0.0\n",
       "48           0.0\n",
       "92           0.0\n",
       "           ...  \n",
       "198845       0.0\n",
       "198851    1045.0\n",
       "198867       0.0\n",
       "198873       0.0\n",
       "198874       0.0\n",
       "Name: Time, Length: 100587, dtype: float64"
      ]
     },
     "execution_count": 11,
     "metadata": {},
     "output_type": "execute_result"
    }
   ],
   "source": [
    "#Check the df time \n",
    "df['Time']"
   ]
  },
  {
   "cell_type": "code",
   "execution_count": 12,
   "metadata": {},
   "outputs": [],
   "source": [
    "#Put these dates into bins to check the class distribution\n",
    "bins_1 = [0,93,183,276,365,df.Time.max()]\n",
    "bins_2 = [0,1,7,15,31,62,93,124,155,186,365,df.Time.max()]\n",
    "names_1=['< 3 months', '3-6 months', '6-9 months', '9 months - a year', '1+ year']\n",
    "names_2=['Same day','< a week','1-2 weeks','2 weeks - 1 month', '1-2 months', '2-3 months', '3-4 months', '4-5 months', '5-6 months', '6 months - a year', '1+ year']"
   ]
  },
  {
   "cell_type": "code",
   "execution_count": 13,
   "metadata": {},
   "outputs": [],
   "source": [
    "#Now cut these and create a new column for it \n",
    "b = pd.cut(df['Time'], bins_1,labels=names_1,include_lowest =False)\n",
    "c = pd.cut(df['Time'], bins_2,labels=names_2,include_lowest =False)\n",
    "df['Time2'] = b\n",
    "df['Time3'] = c"
   ]
  },
  {
   "cell_type": "code",
   "execution_count": 14,
   "metadata": {},
   "outputs": [
    {
     "data": {
      "text/plain": [
       "Permit Number                                     object\n",
       "Permit Type                                        int64\n",
       "Permit Type Definition                            object\n",
       "Permit Creation Date                      datetime64[ns]\n",
       "Block                                             object\n",
       "Lot                                               object\n",
       "Street Number                                      int64\n",
       "Street Name                                       object\n",
       "Street Suffix                                     object\n",
       "Description                                       object\n",
       "Current Status                                    object\n",
       "Current Status Date                       datetime64[ns]\n",
       "Filed Date                                datetime64[ns]\n",
       "Issued Date                               datetime64[ns]\n",
       "First Construction Document Date                  object\n",
       "Number of Existing Stories                       float64\n",
       "Number of Proposed Stories                       float64\n",
       "Permit Expiration Date                    datetime64[ns]\n",
       "Estimated Cost                                   float64\n",
       "Revised Cost                                     float64\n",
       "Existing Use                                      object\n",
       "Existing Units                                   float64\n",
       "Proposed Use                                      object\n",
       "Proposed Units                                   float64\n",
       "Plansets                                         float64\n",
       "Existing Construction Type                       float64\n",
       "Existing Construction Type Description            object\n",
       "Proposed Construction Type                       float64\n",
       "Proposed Construction Type Description            object\n",
       "Supervisor District                              float64\n",
       "Neighborhoods - Analysis Boundaries               object\n",
       "Zipcode                                          float64\n",
       "Location                                          object\n",
       "Record ID                                          int64\n",
       "Time                                             float64\n",
       "Time2                                           category\n",
       "Time3                                           category\n",
       "dtype: object"
      ]
     },
     "execution_count": 14,
     "metadata": {},
     "output_type": "execute_result"
    }
   ],
   "source": [
    "#return statistical data of numerical value columns\n",
    "df.dtypes"
   ]
  },
  {
   "cell_type": "code",
   "execution_count": 40,
   "metadata": {},
   "outputs": [
    {
     "data": {
      "image/png": "[encoded data removed]",
      "text/plain": [
       "<Figure size 1080x576 with 1 Axes>"
      ]
     },
     "metadata": {
      "needs_background": "light"
     },
     "output_type": "display_data"
    }
   ],
   "source": [
    "#Check the plot for number of permits approved\n",
    "plt.figure(2, figsize= (15,8))\n",
    "sns.countplot(x='Time2',data=df)\n",
    "plt.xlabel(\"Time\")\n",
    "plt.ylabel(\"Permit\")\n",
    "plt.title(\"Number of permit approved by waiting time range\")\n",
    "plt.show()"
   ]
  },
  {
   "cell_type": "code",
   "execution_count": 41,
   "metadata": {},
   "outputs": [
    {
     "data": {
      "image/png": "[encoded data removed]",
      "text/plain": [
       "<Figure size 1080x576 with 1 Axes>"
      ]
     },
     "metadata": {
      "needs_background": "light"
     },
     "output_type": "display_data"
    }
   ],
   "source": [
    "#Check the number of permits approved in time range but zoomed in more\n",
    "plt.figure(3, figsize= (15,8))\n",
    "sns.countplot(x='Time3',data=df)\n",
    "plt.xlabel(\"Time\")\n",
    "plt.ylabel(\"Permit\")\n",
    "plt.title(\"Number of permit approved by waiting time range\")\n",
    "plt.show()"
   ]
  },
  {
   "cell_type": "code",
   "execution_count": 42,
   "metadata": {},
   "outputs": [
    {
     "data": {
      "image/png": "[encoded data removed]",
      "text/plain": [
       "<Figure size 576x576 with 1 Axes>"
      ]
     },
     "metadata": {},
     "output_type": "display_data"
    }
   ],
   "source": [
    "#plot the pie chart for proportion of catefories in Permit Type\n",
    "labels = df['Permit Type'].value_counts().keys()[:20]\n",
    "sizes = df['Permit Type'].value_counts().values[:20]\n",
    "colors = ['#f54242', '#f2a4a2', '#f08d62']\n",
    "\n",
    "plt.pie(sizes, labels = labels, colors = colors, startangle = 90)\n",
    "plt.legend(bbox_to_anchor=(1.5,1))\n",
    "\n",
    "fig = plt.gcf()\n",
    "fig.set_size_inches(8,8)\n",
    "plt.title('Permit Type', fontsize=20)\n",
    "space = plt.gca()\n",
    "space.title.set_position([0.5, 1])\n",
    "\n",
    "plt.tight_layout()"
   ]
  },
  {
   "cell_type": "code",
   "execution_count": 43,
   "metadata": {},
   "outputs": [
    {
     "data": {
      "image/png": "[encoded data removed]",
      "text/plain": [
       "<Figure size 576x576 with 1 Axes>"
      ]
     },
     "metadata": {},
     "output_type": "display_data"
    }
   ],
   "source": [
    "#plot the pie chart for proportion of catefories in Existing Construction Type\n",
    "labels = df['Existing Construction Type'].value_counts().keys()[:20]\n",
    "sizes = df['Existing Construction Type'].value_counts().values[:20]\n",
    "colors = ['#f54242', '#f2a4a2', '#f08d62','#fced79', '#adf745', '#45d9f7', '#2147b0', '#e8d987', '#a293d9','#a564fa', '#e364fa', '#eebcf7'\n",
    "          ,'#bcf7d9', '#327899', '#fcec00', '#2147b0', '#a3a3a3', '#f6ffc2', '#9c4f1f', '#a67ba4', '#87dde8']\n",
    "\n",
    "plt.pie(sizes, labels=labels, colors = colors , startangle = 90)\n",
    "plt.legend(bbox_to_anchor=(1.5,1))\n",
    "\n",
    "fig = plt.gcf()\n",
    "fig.set_size_inches(8,8)\n",
    "plt.title('Existing Construction Type', fontsize=20)\n",
    "space = plt.gca()\n",
    "space.title.set_position([0.5, 1])\n",
    "\n",
    "plt.tight_layout()"
   ]
  },
  {
   "cell_type": "code",
   "execution_count": 44,
   "metadata": {},
   "outputs": [
    {
     "data": {
      "image/png": "[encoded data removed]",
      "text/plain": [
       "<Figure size 1728x576 with 1 Axes>"
      ]
     },
     "metadata": {
      "needs_background": "light"
     },
     "output_type": "display_data"
    }
   ],
   "source": [
    "#Check the distribution of zipcodes\n",
    "b = df['Zipcode'][df['Issued Date'].notnull() == True]\n",
    "plt.figure(5, figsize= (24,8))\n",
    "sns.countplot(x=b,data=df)\n",
    "plt.xlabel(\"Zipcode\")\n",
    "plt.ylabel(\"Permit\")\n",
    "plt.title(\"Number of permit approved by Zipcode\")\n",
    "plt.show()"
   ]
  },
  {
   "cell_type": "code",
   "execution_count": 45,
   "metadata": {},
   "outputs": [
    {
     "data": {
      "image/png": "[encoded data removed]",
      "text/plain": [
       "<Figure size 720x432 with 1 Axes>"
      ]
     },
     "metadata": {
      "needs_background": "light"
     },
     "output_type": "display_data"
    }
   ],
   "source": [
    "#plot the column chart for proportion of top 20 most common catefories in Neighborhoods - Analysis Boundaries\n",
    "plt.title(\"Number of Neighborhoods - Analysis Boundaries\", fontsize = 15)\n",
    "df[\"Neighborhoods - Analysis Boundaries\"].value_counts()[:20].plot(kind = \"bar\",figsize = (10, 6), color = '#34aeeb')\n",
    "plt.xlabel(\"Neighborhoods\")\n",
    "plt.ylabel(\"Counts\")\n",
    "plt.show()"
   ]
  },
  {
   "cell_type": "code",
   "execution_count": 46,
   "metadata": {},
   "outputs": [
    {
     "data": {
      "text/plain": [
       "<matplotlib.axes._subplots.AxesSubplot at 0x1f1067eb748>"
      ]
     },
     "execution_count": 46,
     "metadata": {},
     "output_type": "execute_result"
    },
    {
     "data": {
      "image/png": "[encoded data removed]",
      "text/plain": [
       "<Figure size 864x720 with 1 Axes>"
      ]
     },
     "metadata": {
      "needs_background": "light"
     },
     "output_type": "display_data"
    }
   ],
   "source": [
    "#Histogram of the supervisor districts\n",
    "plt.figure(figsize=(12,10))\n",
    "\n",
    "sns.set(style=\"darkgrid\")\n",
    "sns.countplot(\n",
    "    data=df,\n",
    "    x='Supervisor District')"
   ]
  },
  {
   "cell_type": "markdown",
   "metadata": {},
   "source": [
    "### 3. Predictions\n",
    "---"
   ]
  },
  {
   "cell_type": "markdown",
   "metadata": {},
   "source": [
    "Cleanning the data"
   ]
  },
  {
   "cell_type": "code",
   "execution_count": 2,
   "metadata": {},
   "outputs": [],
   "source": [
    "import os\n",
    "import numpy as np\n",
    "import pandas as pd\n",
    "import matplotlib.pyplot as plt\n",
    "import seaborn as sns\n",
    "#import packages and libraries\n",
    "#setting up initialization"
   ]
  },
  {
   "cell_type": "code",
   "execution_count": 3,
   "metadata": {},
   "outputs": [
    {
     "name": "stderr",
     "output_type": "stream",
     "text": [
      "C:\\Users\\VRTS\\anaconda3\\lib\\site-packages\\IPython\\core\\interactiveshell.py:3071: DtypeWarning: Columns (22,32) have mixed types.Specify dtype option on import or set low_memory=False.\n",
      "  has_raised = await self.run_ast_nodes(code_ast.body, cell_name,\n"
     ]
    },
    {
     "data": {
      "text/html": [
       "<div>\n",
       "<style scoped>\n",
       "    .dataframe tbody tr th:only-of-type {\n",
       "        vertical-align: middle;\n",
       "    }\n",
       "\n",
       "    .dataframe tbody tr th {\n",
       "        vertical-align: top;\n",
       "    }\n",
       "\n",
       "    .dataframe thead th {\n",
       "        text-align: right;\n",
       "    }\n",
       "</style>\n",
       "<table border=\"1\" class=\"dataframe\">\n",
       "  <thead>\n",
       "    <tr style=\"text-align: right;\">\n",
       "      <th></th>\n",
       "      <th>Permit Number</th>\n",
       "      <th>Permit Type</th>\n",
       "      <th>Permit Type Definition</th>\n",
       "      <th>Permit Creation Date</th>\n",
       "      <th>Block</th>\n",
       "      <th>Lot</th>\n",
       "      <th>Street Number</th>\n",
       "      <th>Street Number Suffix</th>\n",
       "      <th>Street Name</th>\n",
       "      <th>Street Suffix</th>\n",
       "      <th>...</th>\n",
       "      <th>Existing Construction Type</th>\n",
       "      <th>Existing Construction Type Description</th>\n",
       "      <th>Proposed Construction Type</th>\n",
       "      <th>Proposed Construction Type Description</th>\n",
       "      <th>Site Permit</th>\n",
       "      <th>Supervisor District</th>\n",
       "      <th>Neighborhoods - Analysis Boundaries</th>\n",
       "      <th>Zipcode</th>\n",
       "      <th>Location</th>\n",
       "      <th>Record ID</th>\n",
       "    </tr>\n",
       "  </thead>\n",
       "  <tbody>\n",
       "    <tr>\n",
       "      <th>0</th>\n",
       "      <td>201505065519</td>\n",
       "      <td>4</td>\n",
       "      <td>sign - erect</td>\n",
       "      <td>05/06/2015</td>\n",
       "      <td>0326</td>\n",
       "      <td>023</td>\n",
       "      <td>140</td>\n",
       "      <td>NaN</td>\n",
       "      <td>Ellis</td>\n",
       "      <td>St</td>\n",
       "      <td>...</td>\n",
       "      <td>3.0</td>\n",
       "      <td>constr type 3</td>\n",
       "      <td>NaN</td>\n",
       "      <td>NaN</td>\n",
       "      <td>NaN</td>\n",
       "      <td>3.0</td>\n",
       "      <td>Tenderloin</td>\n",
       "      <td>94102.0</td>\n",
       "      <td>(37.785719256680785, -122.40852313194863)</td>\n",
       "      <td>1380611233945</td>\n",
       "    </tr>\n",
       "    <tr>\n",
       "      <th>1</th>\n",
       "      <td>201604195146</td>\n",
       "      <td>4</td>\n",
       "      <td>sign - erect</td>\n",
       "      <td>04/19/2016</td>\n",
       "      <td>0306</td>\n",
       "      <td>007</td>\n",
       "      <td>440</td>\n",
       "      <td>NaN</td>\n",
       "      <td>Geary</td>\n",
       "      <td>St</td>\n",
       "      <td>...</td>\n",
       "      <td>3.0</td>\n",
       "      <td>constr type 3</td>\n",
       "      <td>NaN</td>\n",
       "      <td>NaN</td>\n",
       "      <td>NaN</td>\n",
       "      <td>3.0</td>\n",
       "      <td>Tenderloin</td>\n",
       "      <td>94102.0</td>\n",
       "      <td>(37.78733980600732, -122.41063199757738)</td>\n",
       "      <td>1420164406718</td>\n",
       "    </tr>\n",
       "    <tr>\n",
       "      <th>2</th>\n",
       "      <td>201605278609</td>\n",
       "      <td>3</td>\n",
       "      <td>additions alterations or repairs</td>\n",
       "      <td>05/27/2016</td>\n",
       "      <td>0595</td>\n",
       "      <td>203</td>\n",
       "      <td>1647</td>\n",
       "      <td>NaN</td>\n",
       "      <td>Pacific</td>\n",
       "      <td>Av</td>\n",
       "      <td>...</td>\n",
       "      <td>1.0</td>\n",
       "      <td>constr type 1</td>\n",
       "      <td>1.0</td>\n",
       "      <td>constr type 1</td>\n",
       "      <td>NaN</td>\n",
       "      <td>3.0</td>\n",
       "      <td>Russian Hill</td>\n",
       "      <td>94109.0</td>\n",
       "      <td>(37.7946573324287, -122.42232562979227)</td>\n",
       "      <td>1424856504716</td>\n",
       "    </tr>\n",
       "    <tr>\n",
       "      <th>3</th>\n",
       "      <td>201611072166</td>\n",
       "      <td>8</td>\n",
       "      <td>otc alterations permit</td>\n",
       "      <td>11/07/2016</td>\n",
       "      <td>0156</td>\n",
       "      <td>011</td>\n",
       "      <td>1230</td>\n",
       "      <td>NaN</td>\n",
       "      <td>Pacific</td>\n",
       "      <td>Av</td>\n",
       "      <td>...</td>\n",
       "      <td>5.0</td>\n",
       "      <td>wood frame (5)</td>\n",
       "      <td>5.0</td>\n",
       "      <td>wood frame (5)</td>\n",
       "      <td>NaN</td>\n",
       "      <td>3.0</td>\n",
       "      <td>Nob Hill</td>\n",
       "      <td>94109.0</td>\n",
       "      <td>(37.79595867909168, -122.41557405519474)</td>\n",
       "      <td>1443574295566</td>\n",
       "    </tr>\n",
       "    <tr>\n",
       "      <th>4</th>\n",
       "      <td>201611283529</td>\n",
       "      <td>6</td>\n",
       "      <td>demolitions</td>\n",
       "      <td>11/28/2016</td>\n",
       "      <td>0342</td>\n",
       "      <td>001</td>\n",
       "      <td>950</td>\n",
       "      <td>NaN</td>\n",
       "      <td>Market</td>\n",
       "      <td>St</td>\n",
       "      <td>...</td>\n",
       "      <td>3.0</td>\n",
       "      <td>constr type 3</td>\n",
       "      <td>NaN</td>\n",
       "      <td>NaN</td>\n",
       "      <td>NaN</td>\n",
       "      <td>6.0</td>\n",
       "      <td>Tenderloin</td>\n",
       "      <td>94102.0</td>\n",
       "      <td>(37.78315261897309, -122.40950883997789)</td>\n",
       "      <td>144548169992</td>\n",
       "    </tr>\n",
       "  </tbody>\n",
       "</table>\n",
       "<p>5 rows × 43 columns</p>\n",
       "</div>"
      ],
      "text/plain": [
       "  Permit Number  Permit Type            Permit Type Definition  \\\n",
       "0  201505065519            4                      sign - erect   \n",
       "1  201604195146            4                      sign - erect   \n",
       "2  201605278609            3  additions alterations or repairs   \n",
       "3  201611072166            8            otc alterations permit   \n",
       "4  201611283529            6                       demolitions   \n",
       "\n",
       "  Permit Creation Date Block  Lot  Street Number Street Number Suffix  \\\n",
       "0           05/06/2015  0326  023            140                  NaN   \n",
       "1           04/19/2016  0306  007            440                  NaN   \n",
       "2           05/27/2016  0595  203           1647                  NaN   \n",
       "3           11/07/2016  0156  011           1230                  NaN   \n",
       "4           11/28/2016  0342  001            950                  NaN   \n",
       "\n",
       "  Street Name Street Suffix  ...  Existing Construction Type  \\\n",
       "0       Ellis            St  ...                         3.0   \n",
       "1       Geary            St  ...                         3.0   \n",
       "2     Pacific            Av  ...                         1.0   \n",
       "3     Pacific            Av  ...                         5.0   \n",
       "4      Market            St  ...                         3.0   \n",
       "\n",
       "  Existing Construction Type Description Proposed Construction Type  \\\n",
       "0                          constr type 3                        NaN   \n",
       "1                          constr type 3                        NaN   \n",
       "2                          constr type 1                        1.0   \n",
       "3                         wood frame (5)                        5.0   \n",
       "4                          constr type 3                        NaN   \n",
       "\n",
       "  Proposed Construction Type Description Site Permit Supervisor District  \\\n",
       "0                                    NaN         NaN                 3.0   \n",
       "1                                    NaN         NaN                 3.0   \n",
       "2                          constr type 1         NaN                 3.0   \n",
       "3                         wood frame (5)         NaN                 3.0   \n",
       "4                                    NaN         NaN                 6.0   \n",
       "\n",
       "  Neighborhoods - Analysis Boundaries  Zipcode  \\\n",
       "0                          Tenderloin  94102.0   \n",
       "1                          Tenderloin  94102.0   \n",
       "2                        Russian Hill  94109.0   \n",
       "3                            Nob Hill  94109.0   \n",
       "4                          Tenderloin  94102.0   \n",
       "\n",
       "                                    Location      Record ID  \n",
       "0  (37.785719256680785, -122.40852313194863)  1380611233945  \n",
       "1   (37.78733980600732, -122.41063199757738)  1420164406718  \n",
       "2    (37.7946573324287, -122.42232562979227)  1424856504716  \n",
       "3   (37.79595867909168, -122.41557405519474)  1443574295566  \n",
       "4   (37.78315261897309, -122.40950883997789)   144548169992  \n",
       "\n",
       "[5 rows x 43 columns]"
      ]
     },
     "execution_count": 3,
     "metadata": {},
     "output_type": "execute_result"
    }
   ],
   "source": [
    "#load the dataset into dataframe \"df\"\n",
    "df4 = pd.read_csv(\"Building_Permits.csv\", index_col = None)\n",
    "df4.head()"
   ]
  },
  {
   "cell_type": "code",
   "execution_count": 4,
   "metadata": {},
   "outputs": [
    {
     "data": {
      "text/plain": [
       "(100587, 43)"
      ]
     },
     "execution_count": 4,
     "metadata": {},
     "output_type": "execute_result"
    }
   ],
   "source": [
    "#drop rows of more than 8 missing values\n",
    "df4.dropna(thresh=35, inplace =True)\n",
    "\n",
    "#return new shape of the dataframe\n",
    "df4.shape"
   ]
  },
  {
   "cell_type": "code",
   "execution_count": 5,
   "metadata": {},
   "outputs": [],
   "source": [
    "#drop columns with too many missing values\n",
    "df4.drop(columns=['Street Number Suffix', 'Unit', 'Unit Suffix','Structural Notification', 'Completed Date','Structural Notification','Voluntary Soft-Story Retrofit','Fire Only Permit','TIDF Compliance','Site Permit'], inplace = True)"
   ]
  },
  {
   "cell_type": "code",
   "execution_count": 6,
   "metadata": {},
   "outputs": [],
   "source": [
    "#drop columns with categorical values\n",
    "df4.drop(columns=['Permit Type Definition', 'Permit Creation Date', \"Block\", 'Description', \"Lot\", \"Street Name\", \"Street Suffix\", \"Current Status\", \"Current Status Date\", \"Filed Date\", \"Issued Date\", \"First Construction Document Date\", \"Existing Use\", \"Proposed Use\", \"Existing Construction Type Description\", \"Proposed Construction Type Description\", \"Neighborhoods - Analysis Boundaries\", \"Location\"], inplace = True)"
   ]
  },
  {
   "cell_type": "code",
   "execution_count": null,
   "metadata": {},
   "outputs": [],
   "source": [
    "#fill in null values by the mean value of each column\n",
    "df4.fillna(df4.mean(), inplace = True)"
   ]
  },
  {
   "cell_type": "code",
   "execution_count": null,
   "metadata": {},
   "outputs": [],
   "source": [
    "#Create a new dataframe and have only these 2 columns\n",
    "df2 = pd.read_csv(\"Building_Permits.csv\", index_col = None)\n",
    "df2.dropna(thresh=35, inplace =True)\n",
    "df2 = df2.loc[:, ['Filed Date','Issued Date']] #choose Filed Date and Issued Date columns only"
   ]
  },
  {
   "cell_type": "code",
   "execution_count": null,
   "metadata": {},
   "outputs": [],
   "source": [
    "#Convert these 2 columns into date time\n",
    "df2['Filed Date'] = pd.to_datetime(df2['Filed Date'])\n",
    "df2['Issued Date'] = pd.to_datetime(df2['Issued Date'])"
   ]
  },
  {
   "cell_type": "code",
   "execution_count": null,
   "metadata": {},
   "outputs": [],
   "source": [
    "#New attribute necessary for my prediction\n",
    "df2['Time'] = (df2['Issued Date'] - df2['Filed Date']) / np.timedelta64(1, 'D')"
   ]
  },
  {
   "cell_type": "code",
   "execution_count": null,
   "metadata": {},
   "outputs": [],
   "source": [
    "#Concat these 2 dataframes together\n",
    "df0=pd.concat([df4, df2], axis=1)"
   ]
  },
  {
   "cell_type": "code",
   "execution_count": null,
   "metadata": {},
   "outputs": [],
   "source": [
    "#Create bins and cut them in a new column called cat_time\n",
    "df0['cat_time'] = pd.cut(df0.Time, bins = [0,1,7,15,31,62,93,124,155,186,365,1800]\n",
    "                                      , labels =['Same day', 'Less than a week' ,'1-2 weeks','2 weeks - 1 month', \n",
    "                                                 '1-2 months', '2-3 months', '3-4 months', '4-5 months', \n",
    "                                                 '5-6 months', '6 months-a year', '1+ year']\n",
    "                                      , right=False)\n",
    "\n",
    "df0.head()"
   ]
  },
  {
   "cell_type": "code",
   "execution_count": null,
   "metadata": {},
   "outputs": [],
   "source": [
    "#Create a test dataframe that only has the numerical columns \n",
    "dftest = df0[['Permit Type', 'Street Number', 'Number of Existing Stories', \n",
    "             'Number of Proposed Stories', 'Estimated Cost', 'Revised Cost', \n",
    "            'Proposed Units', 'Existing Construction Type', 'Proposed Construction Type',\n",
    "            'Supervisor District', 'Zipcode', 'cat_time']]\n",
    "\n",
    "dftest.columns"
   ]
  },
  {
   "cell_type": "code",
   "execution_count": null,
   "metadata": {},
   "outputs": [],
   "source": [
    "dftest.shape"
   ]
  },
  {
   "cell_type": "markdown",
   "metadata": {},
   "source": [
    "KNN:\n",
    "---"
   ]
  },
  {
   "cell_type": "code",
   "execution_count": 202,
   "metadata": {},
   "outputs": [],
   "source": [
    "#X will have the columns from 0 - 10 \n",
    "#Y will have only the column cat_time \n",
    "X = dftest.iloc[:, 0:11].values #attributes\n",
    "y = dftest.iloc[:, -1].values #label"
   ]
  },
  {
   "cell_type": "code",
   "execution_count": 203,
   "metadata": {},
   "outputs": [],
   "source": [
    "from sklearn.model_selection import train_test_split\n",
    "X_train, X_test, y_train, y_test = train_test_split(X, y, test_size=0.2, random_state = 0)"
   ]
  },
  {
   "cell_type": "code",
   "execution_count": 204,
   "metadata": {},
   "outputs": [],
   "source": [
    "from sklearn.neighbors import KNeighborsClassifier\n",
    "knn = KNeighborsClassifier(n_neighbors = 5)\n",
    "knn.fit(X_train, y_train)\n",
    "knn.score(X_train, y_train)\n",
    "y_pred = knn.predict(X_test)"
   ]
  },
  {
   "cell_type": "code",
   "execution_count": 205,
   "metadata": {},
   "outputs": [
    {
     "name": "stdout",
     "output_type": "stream",
     "text": [
      "                   precision    recall  f1-score   support\n",
      "\n",
      "          1+ year       0.18      0.27      0.22       373\n",
      "       1-2 months       0.15      0.16      0.15       901\n",
      "        1-2 weeks       0.18      0.13      0.15      1516\n",
      "2 weeks - 1 month       0.17      0.11      0.14      1186\n",
      "       2-3 months       0.13      0.05      0.07       476\n",
      "       3-4 months       0.12      0.05      0.07       269\n",
      "       4-5 months       0.26      0.12      0.17       196\n",
      "       5-6 months       0.35      0.14      0.20       183\n",
      "  6 months-a year       0.25      0.19      0.21       598\n",
      " Less than a week       0.23      0.18      0.20      2982\n",
      "         Same day       0.70      0.82      0.76     11438\n",
      "\n",
      "         accuracy                           0.53     20118\n",
      "        macro avg       0.25      0.20      0.21     20118\n",
      "     weighted avg       0.48      0.53      0.50     20118\n",
      "\n",
      "[[ 101   49   25   30   10    2    4    2   27   50   73]\n",
      " [  54  140   79   58   21   11    3    6   30  131  368]\n",
      " [  61  122  204   85   17    8   13    9   48  206  743]\n",
      " [  65   99  125  135   18   10   14    4   44  175  497]\n",
      " [  29   57   47   38   25    8    1    6   14   60  191]\n",
      " [  14   21   28   25    6   14    4    1   20   30  106]\n",
      " [  11   25   15   10    3    5   24    1    5   32   65]\n",
      " [  16   21   19   12    3    0    0   26    9   22   55]\n",
      " [  62   58   75   46   12    1    2    3  111   74  154]\n",
      " [  85  147  193  124   31   17   12    8   64  523 1778]\n",
      " [  60  191  340  220   53   43   17    8   78 1018 9410]]\n",
      "accuracy is 0.532508201610498\n"
     ]
    }
   ],
   "source": [
    "from sklearn.metrics import confusion_matrix\n",
    "from sklearn.metrics import classification_report\n",
    "# Summary of the predictions made by the classifier\n",
    "print(classification_report(y_test, y_pred))\n",
    "print(confusion_matrix(y_test, y_pred))\n",
    "# Accuracy score\n",
    "from sklearn.metrics import accuracy_score\n",
    "print('accuracy is',accuracy_score(y_pred,y_test))"
   ]
  },
  {
   "cell_type": "code",
   "execution_count": 207,
   "metadata": {},
   "outputs": [
    {
     "data": {
      "text/plain": [
       "Text(89.18, 0.5, 'predicted label')"
      ]
     },
     "execution_count": 207,
     "metadata": {},
     "output_type": "execute_result"
    },
    {
     "data": {
      "image/png": "[encoded data removed]",
      "text/plain": [
       "<Figure size 432x288 with 1 Axes>"
      ]
     },
     "metadata": {},
     "output_type": "display_data"
    }
   ],
   "source": [
    "from sklearn.metrics import confusion_matrix\n",
    "mat = confusion_matrix(y_test, y_pred)\n",
    "sns.heatmap(mat.T, square=True, annot=True, fmt='d', cbar=False)\n",
    "plt.xlabel('true label')\n",
    "plt.ylabel('predicted label')"
   ]
  },
  {
   "cell_type": "markdown",
   "metadata": {},
   "source": [
    "Naive Bayes\n",
    "---"
   ]
  },
  {
   "cell_type": "code",
   "execution_count": 208,
   "metadata": {},
   "outputs": [],
   "source": [
    "from sklearn.naive_bayes import GaussianNB\n",
    "gnb = GaussianNB()"
   ]
  },
  {
   "cell_type": "code",
   "execution_count": 209,
   "metadata": {},
   "outputs": [
    {
     "data": {
      "text/plain": [
       "GaussianNB(priors=None, var_smoothing=1e-09)"
      ]
     },
     "execution_count": 209,
     "metadata": {},
     "output_type": "execute_result"
    }
   ],
   "source": [
    "#Using the same data from KNN\n",
    "gnb.fit(X_train, y_train)"
   ]
  },
  {
   "cell_type": "code",
   "execution_count": 210,
   "metadata": {},
   "outputs": [],
   "source": [
    "y_pred = gnb.predict(X_test)"
   ]
  },
  {
   "cell_type": "code",
   "execution_count": 211,
   "metadata": {},
   "outputs": [
    {
     "name": "stdout",
     "output_type": "stream",
     "text": [
      "Accuracy score:  0.5698876627895417\n",
      "Recall score:  0.5698876627895417\n",
      "Precision score:  0.402914500579817\n",
      "F1 score:  0.4495228750965674\n"
     ]
    },
    {
     "name": "stderr",
     "output_type": "stream",
     "text": [
      "C:\\Users\\Anthony\\Documents\\anaconda3\\lib\\site-packages\\sklearn\\metrics\\_classification.py:1272: UndefinedMetricWarning: Precision is ill-defined and being set to 0.0 in labels with no predicted samples. Use `zero_division` parameter to control this behavior.\n",
      "  _warn_prf(average, modifier, msg_start, len(result))\n"
     ]
    }
   ],
   "source": [
    "from sklearn.metrics import accuracy_score, recall_score, precision_score, f1_score\n",
    "\n",
    "print(\"Accuracy score: \", accuracy_score(y_test, y_pred))\n",
    "print(\"Recall score: \", recall_score(y_test, y_pred, average = 'weighted'))\n",
    "print(\"Precision score: \", precision_score(y_test, y_pred, average = 'weighted'))\n",
    "print(\"F1 score: \", f1_score(y_test, y_pred, average = 'weighted'))"
   ]
  },
  {
   "cell_type": "code",
   "execution_count": 167,
   "metadata": {},
   "outputs": [
    {
     "name": "stderr",
     "output_type": "stream",
     "text": [
      "C:\\Users\\taqua\\Anaconda3\\lib\\site-packages\\sklearn\\metrics\\_classification.py:1221: UndefinedMetricWarning: Precision and F-score are ill-defined and being set to 0.0 in labels with no predicted samples. Use `zero_division` parameter to control this behavior.\n",
      "  _warn_prf(average, modifier, msg_start, len(result))\n"
     ]
    },
    {
     "name": "stdout",
     "output_type": "stream",
     "text": [
      "                   precision    recall  f1-score   support\n",
      "\n",
      "          1+ year       0.00      0.00      0.00       489\n",
      "       1-2 months       0.00      0.00      0.00      1331\n",
      "        1-2 weeks       0.97      0.01      0.03      2073\n",
      "2 weeks - 1 month       1.00      0.00      0.01      1707\n",
      "       2-3 months       0.00      0.00      0.00       700\n",
      "       3-4 months       0.00      0.00      0.00       356\n",
      "       4-5 months       0.00      0.00      0.00       312\n",
      "       5-6 months       0.00      0.00      0.00       258\n",
      "  6 months-a year       0.85      0.11      0.20       870\n",
      " Less than a week       0.21      0.07      0.10      4257\n",
      "         Same day       0.58      0.99      0.73     15377\n",
      "\n",
      "         accuracy                           0.57     27730\n",
      "        macro avg       0.33      0.11      0.10     27730\n",
      "     weighted avg       0.52      0.57      0.43     27730\n",
      "\n",
      "[[    0     0     0     0     0     0     0     0     4    49   436]\n",
      " [    0     0     0     0     0     0     0     0     2   173  1156]\n",
      " [    0     0    29     0     0     0     0     0     1   189  1854]\n",
      " [    0     0     0     5     0     0     0     0     0   201  1501]\n",
      " [    0     0     0     0     0     0     0     0     2    90   608]\n",
      " [    0     0     0     0     0     0     0     0     1    61   294]\n",
      " [    0     2     0     0     0     0     0     0     4    44   262]\n",
      " [    0     0     0     0     0     0     0     0     3    32   223]\n",
      " [    0     1     0     0     0     0     0     0    99    95   675]\n",
      " [    0     0     0     0     0     0     0     0     0   281  3976]\n",
      " [    0     0     1     0     0     0     0     0     0    94 15282]]\n",
      "accuracy is 0.5660295708618824\n",
      "F1 score:  0.4312081439549314\n"
     ]
    }
   ],
   "source": [
    "from sklearn.metrics import confusion_matrix\n",
    "from sklearn.metrics import classification_report\n",
    "# Summary of the predictions made by the classifier\n",
    "print(classification_report(y_test, y_pred))\n",
    "print(confusion_matrix(y_test, y_pred))\n",
    "# Accuracy score\n",
    "from sklearn.metrics import accuracy_score,f1_score\n",
    "print('accuracy is',accuracy_score(y_pred,y_test))\n",
    "print(\"F1 score: \", f1_score(y_test, y_pred, average = 'weighted'))"
   ]
  },
  {
   "cell_type": "code",
   "execution_count": 213,
   "metadata": {},
   "outputs": [
    {
     "name": "stderr",
     "output_type": "stream",
     "text": [
      "C:\\Users\\Anthony\\Documents\\anaconda3\\lib\\site-packages\\IPython\\core\\interactiveshell.py:3063: DtypeWarning: Columns (22,32) have mixed types.Specify dtype option on import or set low_memory=False.\n",
      "  interactivity=interactivity, compiler=compiler, result=result)\n"
     ]
    }
   ],
   "source": [
    "#Read in the csv file from kaggle that contains the San Francisco Building Permits dataset\n",
    "#Getting an error for columns 22 and 32 having issues with weird types.\n",
    "dfpermits = pd.read_csv('Building_Permits.csv')"
   ]
  },
  {
   "cell_type": "code",
   "execution_count": 214,
   "metadata": {},
   "outputs": [],
   "source": [
    "#Dropping columns that I feel are somewhat unneccessary to my project, have too much missing, \n",
    "#or I couldn't understand what the column was for \n",
    "dfpermits = dfpermits.drop(['Street Number Suffix', 'Street Suffix', 'Unit', 'Unit Suffix', \n",
    "                            'TIDF Compliance', 'Current Status Date', 'Completed Date', \n",
    "                            'First Construction Document Date', 'Structural Notification',\n",
    "                            'Voluntary Soft-Story Retrofit', 'Fire Only Permit', 'Permit Expiration Date',\n",
    "                            'Site Permit', 'Street Number', 'Street Name', 'Existing Use',\n",
    "                            'Record ID', 'Existing Units', 'Plansets', 'Proposed Use', 'Proposed Units'], axis = 1)"
   ]
  },
  {
   "cell_type": "code",
   "execution_count": 215,
   "metadata": {},
   "outputs": [
    {
     "data": {
      "text/plain": [
       "Index(['Permit Number', 'Permit Type', 'Permit Type Definition',\n",
       "       'Permit Creation Date', 'Block', 'Lot', 'Description', 'Current Status',\n",
       "       'Filed Date', 'Issued Date', 'Number of Existing Stories',\n",
       "       'Number of Proposed Stories', 'Estimated Cost', 'Revised Cost',\n",
       "       'Existing Construction Type', 'Existing Construction Type Description',\n",
       "       'Proposed Construction Type', 'Proposed Construction Type Description',\n",
       "       'Supervisor District', 'Neighborhoods - Analysis Boundaries', 'Zipcode',\n",
       "       'Location'],\n",
       "      dtype='object')"
      ]
     },
     "execution_count": 215,
     "metadata": {},
     "output_type": "execute_result"
    }
   ],
   "source": [
    "#Check what columns I have left\n",
    "dfpermits.columns"
   ]
  },
  {
   "cell_type": "code",
   "execution_count": 216,
   "metadata": {},
   "outputs": [
    {
     "data": {
      "text/plain": [
       "(138649, 22)"
      ]
     },
     "execution_count": 216,
     "metadata": {},
     "output_type": "execute_result"
    }
   ],
   "source": [
    "#drop rows of more than 15 missing values\n",
    "dfpermits.dropna(thresh=22, inplace =True)\n",
    "\n",
    "#return new shape of the dataframe\n",
    "dfpermits.shape"
   ]
  },
  {
   "cell_type": "code",
   "execution_count": 217,
   "metadata": {},
   "outputs": [],
   "source": [
    "#Convert this columns to date time\n",
    "dfpermits['Filed Date'] = pd.to_datetime(dfpermits['Filed Date'])\n",
    "dfpermits['Issued Date'] = pd.to_datetime(dfpermits['Issued Date'])"
   ]
  },
  {
   "cell_type": "code",
   "execution_count": 218,
   "metadata": {},
   "outputs": [],
   "source": [
    "#New attribute necessary for my prediction\n",
    "dfpermits['Time'] = (dfpermits['Issued Date'] - dfpermits['Filed Date']) / np.timedelta64(1, 'D')"
   ]
  },
  {
   "cell_type": "code",
   "execution_count": 219,
   "metadata": {},
   "outputs": [
    {
     "data": {
      "text/html": [
       "<div>\n",
       "<style scoped>\n",
       "    .dataframe tbody tr th:only-of-type {\n",
       "        vertical-align: middle;\n",
       "    }\n",
       "\n",
       "    .dataframe tbody tr th {\n",
       "        vertical-align: top;\n",
       "    }\n",
       "\n",
       "    .dataframe thead th {\n",
       "        text-align: right;\n",
       "    }\n",
       "</style>\n",
       "<table border=\"1\" class=\"dataframe\">\n",
       "  <thead>\n",
       "    <tr style=\"text-align: right;\">\n",
       "      <th></th>\n",
       "      <th>Permit Number</th>\n",
       "      <th>Permit Type</th>\n",
       "      <th>Permit Type Definition</th>\n",
       "      <th>Permit Creation Date</th>\n",
       "      <th>Block</th>\n",
       "      <th>Lot</th>\n",
       "      <th>Description</th>\n",
       "      <th>Current Status</th>\n",
       "      <th>Filed Date</th>\n",
       "      <th>Issued Date</th>\n",
       "      <th>...</th>\n",
       "      <th>Existing Construction Type</th>\n",
       "      <th>Existing Construction Type Description</th>\n",
       "      <th>Proposed Construction Type</th>\n",
       "      <th>Proposed Construction Type Description</th>\n",
       "      <th>Supervisor District</th>\n",
       "      <th>Neighborhoods - Analysis Boundaries</th>\n",
       "      <th>Zipcode</th>\n",
       "      <th>Location</th>\n",
       "      <th>Time</th>\n",
       "      <th>cat_time</th>\n",
       "    </tr>\n",
       "  </thead>\n",
       "  <tbody>\n",
       "    <tr>\n",
       "      <th>3</th>\n",
       "      <td>201611072166</td>\n",
       "      <td>8</td>\n",
       "      <td>otc alterations permit</td>\n",
       "      <td>11/07/2016</td>\n",
       "      <td>0156</td>\n",
       "      <td>011</td>\n",
       "      <td>repair dryrot &amp; stucco at front of bldg.</td>\n",
       "      <td>complete</td>\n",
       "      <td>2016-11-07</td>\n",
       "      <td>2017-07-18</td>\n",
       "      <td>...</td>\n",
       "      <td>5.0</td>\n",
       "      <td>wood frame (5)</td>\n",
       "      <td>5.0</td>\n",
       "      <td>wood frame (5)</td>\n",
       "      <td>3.0</td>\n",
       "      <td>Nob Hill</td>\n",
       "      <td>94109.0</td>\n",
       "      <td>(37.79595867909168, -122.41557405519474)</td>\n",
       "      <td>253.0</td>\n",
       "      <td>6 months-a year</td>\n",
       "    </tr>\n",
       "    <tr>\n",
       "      <th>5</th>\n",
       "      <td>201706149344</td>\n",
       "      <td>8</td>\n",
       "      <td>otc alterations permit</td>\n",
       "      <td>06/14/2017</td>\n",
       "      <td>4105</td>\n",
       "      <td>009</td>\n",
       "      <td>evac maps</td>\n",
       "      <td>issued</td>\n",
       "      <td>2017-06-14</td>\n",
       "      <td>2017-07-06</td>\n",
       "      <td>...</td>\n",
       "      <td>1.0</td>\n",
       "      <td>constr type 1</td>\n",
       "      <td>1.0</td>\n",
       "      <td>constr type 1</td>\n",
       "      <td>10.0</td>\n",
       "      <td>Potrero Hill</td>\n",
       "      <td>94107.0</td>\n",
       "      <td>(37.75922331346539, -122.39170402628598)</td>\n",
       "      <td>22.0</td>\n",
       "      <td>2 weeks - 1 month</td>\n",
       "    </tr>\n",
       "    <tr>\n",
       "      <th>6</th>\n",
       "      <td>201706300814</td>\n",
       "      <td>8</td>\n",
       "      <td>otc alterations permit</td>\n",
       "      <td>06/30/2017</td>\n",
       "      <td>1739</td>\n",
       "      <td>020</td>\n",
       "      <td>re-roofing</td>\n",
       "      <td>complete</td>\n",
       "      <td>2017-06-30</td>\n",
       "      <td>2017-06-30</td>\n",
       "      <td>...</td>\n",
       "      <td>5.0</td>\n",
       "      <td>wood frame (5)</td>\n",
       "      <td>5.0</td>\n",
       "      <td>wood frame (5)</td>\n",
       "      <td>5.0</td>\n",
       "      <td>Inner Sunset</td>\n",
       "      <td>94122.0</td>\n",
       "      <td>(37.764145640138565, -122.46875112470363)</td>\n",
       "      <td>0.0</td>\n",
       "      <td>Same day</td>\n",
       "    </tr>\n",
       "    <tr>\n",
       "      <th>24</th>\n",
       "      <td>201708084249</td>\n",
       "      <td>8</td>\n",
       "      <td>otc alterations permit</td>\n",
       "      <td>08/08/2017</td>\n",
       "      <td>0542</td>\n",
       "      <td>039</td>\n",
       "      <td>re-roofing</td>\n",
       "      <td>issued</td>\n",
       "      <td>2017-08-08</td>\n",
       "      <td>2017-08-08</td>\n",
       "      <td>...</td>\n",
       "      <td>5.0</td>\n",
       "      <td>wood frame (5)</td>\n",
       "      <td>5.0</td>\n",
       "      <td>wood frame (5)</td>\n",
       "      <td>2.0</td>\n",
       "      <td>Marina</td>\n",
       "      <td>94123.0</td>\n",
       "      <td>(37.79739093461306, -122.43127133823367)</td>\n",
       "      <td>0.0</td>\n",
       "      <td>Same day</td>\n",
       "    </tr>\n",
       "    <tr>\n",
       "      <th>25</th>\n",
       "      <td>201708165014</td>\n",
       "      <td>8</td>\n",
       "      <td>otc alterations permit</td>\n",
       "      <td>08/16/2017</td>\n",
       "      <td>1824</td>\n",
       "      <td>006</td>\n",
       "      <td>re-roofing</td>\n",
       "      <td>issued</td>\n",
       "      <td>2017-08-16</td>\n",
       "      <td>2017-08-16</td>\n",
       "      <td>...</td>\n",
       "      <td>5.0</td>\n",
       "      <td>wood frame (5)</td>\n",
       "      <td>5.0</td>\n",
       "      <td>wood frame (5)</td>\n",
       "      <td>4.0</td>\n",
       "      <td>Sunset/Parkside</td>\n",
       "      <td>94122.0</td>\n",
       "      <td>(37.76052279949518, -122.4879889739165)</td>\n",
       "      <td>0.0</td>\n",
       "      <td>Same day</td>\n",
       "    </tr>\n",
       "  </tbody>\n",
       "</table>\n",
       "<p>5 rows × 24 columns</p>\n",
       "</div>"
      ],
      "text/plain": [
       "   Permit Number  Permit Type  Permit Type Definition Permit Creation Date  \\\n",
       "3   201611072166            8  otc alterations permit           11/07/2016   \n",
       "5   201706149344            8  otc alterations permit           06/14/2017   \n",
       "6   201706300814            8  otc alterations permit           06/30/2017   \n",
       "24  201708084249            8  otc alterations permit           08/08/2017   \n",
       "25  201708165014            8  otc alterations permit           08/16/2017   \n",
       "\n",
       "   Block  Lot                               Description Current Status  \\\n",
       "3   0156  011  repair dryrot & stucco at front of bldg.       complete   \n",
       "5   4105  009                                 evac maps         issued   \n",
       "6   1739  020                                re-roofing       complete   \n",
       "24  0542  039                                re-roofing         issued   \n",
       "25  1824  006                                re-roofing         issued   \n",
       "\n",
       "   Filed Date Issued Date  ...  Existing Construction Type  \\\n",
       "3  2016-11-07  2017-07-18  ...                         5.0   \n",
       "5  2017-06-14  2017-07-06  ...                         1.0   \n",
       "6  2017-06-30  2017-06-30  ...                         5.0   \n",
       "24 2017-08-08  2017-08-08  ...                         5.0   \n",
       "25 2017-08-16  2017-08-16  ...                         5.0   \n",
       "\n",
       "    Existing Construction Type Description  Proposed Construction Type  \\\n",
       "3                           wood frame (5)                         5.0   \n",
       "5                            constr type 1                         1.0   \n",
       "6                           wood frame (5)                         5.0   \n",
       "24                          wood frame (5)                         5.0   \n",
       "25                          wood frame (5)                         5.0   \n",
       "\n",
       "    Proposed Construction Type Description  Supervisor District  \\\n",
       "3                           wood frame (5)                  3.0   \n",
       "5                            constr type 1                 10.0   \n",
       "6                           wood frame (5)                  5.0   \n",
       "24                          wood frame (5)                  2.0   \n",
       "25                          wood frame (5)                  4.0   \n",
       "\n",
       "   Neighborhoods - Analysis Boundaries  Zipcode  \\\n",
       "3                             Nob Hill  94109.0   \n",
       "5                         Potrero Hill  94107.0   \n",
       "6                         Inner Sunset  94122.0   \n",
       "24                              Marina  94123.0   \n",
       "25                     Sunset/Parkside  94122.0   \n",
       "\n",
       "                                     Location   Time           cat_time  \n",
       "3    (37.79595867909168, -122.41557405519474)  253.0    6 months-a year  \n",
       "5    (37.75922331346539, -122.39170402628598)   22.0  2 weeks - 1 month  \n",
       "6   (37.764145640138565, -122.46875112470363)    0.0           Same day  \n",
       "24   (37.79739093461306, -122.43127133823367)    0.0           Same day  \n",
       "25    (37.76052279949518, -122.4879889739165)    0.0           Same day  \n",
       "\n",
       "[5 rows x 24 columns]"
      ]
     },
     "execution_count": 219,
     "metadata": {},
     "output_type": "execute_result"
    }
   ],
   "source": [
    "#Create bins and cut them in a new column called cat_time\n",
    "dfpermits['cat_time'] = pd.cut(dfpermits.Time, bins = [0,1,7,15,31,62,93,124,155,186,365,1800]\n",
    "                                      , labels =['Same day', 'Less than a week' ,'1-2 weeks','2 weeks - 1 month', \n",
    "                                                 '1-2 months', '2-3 months', '3-4 months', '4-5 months', \n",
    "                                                 '5-6 months', '6 months-a year', '1+ year']\n",
    "                                      , right=False)\n",
    "\n",
    "dfpermits.head()"
   ]
  },
  {
   "cell_type": "code",
   "execution_count": 220,
   "metadata": {},
   "outputs": [],
   "source": [
    "#Check the class distribution\n",
    "dfpermits['cat_time'].value_counts()"
   ]
  },
  {
   "cell_type": "code",
   "execution_count": 224,
   "metadata": {},
   "outputs": [
    {
     "data": {
      "image/png": "[encoded data removed]",
      "text/plain": [
       "<Figure size 432x288 with 1 Axes>"
      ]
     },
     "metadata": {},
     "output_type": "display_data"
    }
   ],
   "source": [
    "from sklearn.metrics import confusion_matrix\n",
    "mat = confusion_matrix(y_test, y_pred)\n",
    "sns.heatmap(mat.T, square=True, annot=True, fmt='d', cbar=False)\n",
    "plt.xlabel('true label')\n",
    "plt.ylabel('predicted label');"
   ]
  },
  {
   "cell_type": "code",
   "execution_count": 225,
   "metadata": {},
   "outputs": [],
   "source": [
    "#THIS IS THE PART WHERE I AM TRYING TO USE TEXT FOR MULTINOMIAL NB\n",
    "#This will use most of the features \n",
    "import string\n",
    "dfpermits['Description'] = dfpermits.Description.map(lambda x: x.lower().translate(str.maketrans('','', string.punctuation)))"
   ]
  },
  {
   "cell_type": "code",
   "execution_count": 226,
   "metadata": {},
   "outputs": [],
   "source": [
    "#Create a new df \n",
    "dfpermits2 = dfpermits[['Permit Type Definition', 'Description', 'Block', 'Lot', 'Number of Existing Stories', 'Number of Proposed Stories',\n",
    "                        'Existing Construction Type Description', 'Proposed Construction Type Description', \n",
    "                        'Neighborhoods - Analysis Boundaries', 'Zipcode', 'cat_time']]"
   ]
  },
  {
   "cell_type": "code",
   "execution_count": 227,
   "metadata": {},
   "outputs": [
    {
     "name": "stderr",
     "output_type": "stream",
     "text": [
      "C:\\Users\\Anthony\\Documents\\anaconda3\\lib\\site-packages\\ipykernel_launcher.py:4: SettingWithCopyWarning: \n",
      "A value is trying to be set on a copy of a slice from a DataFrame.\n",
      "Try using .loc[row_indexer,col_indexer] = value instead\n",
      "\n",
      "See the caveats in the documentation: https://pandas.pydata.org/pandas-docs/stable/user_guide/indexing.html#returning-a-view-versus-a-copy\n",
      "  after removing the cwd from sys.path.\n"
     ]
    }
   ],
   "source": [
    "dfpermits2[\"text\"] = dfpermits2[\"Permit Type Definition\"] + \" \" + dfpermits2[\"Description\"] + \" \" + dfpermits2['Block'].astype(str)\\\n",
    "                    + \" \" + dfpermits2['Lot'].astype(str) + \" \" + dfpermits2['Existing Construction Type Description']\\\n",
    "                    + \" \" + dfpermits2['Proposed Construction Type Description'] + \" \" + dfpermits2['Neighborhoods - Analysis Boundaries']\\\n",
    "                    + \" \" + dfpermits2['Zipcode'].astype(str) + \" \" + dfpermits2['Number of Proposed Stories'].astype(str) + \" \" + dfpermits2['Number of Existing Stories'].astype(str)"
   ]
  },
  {
   "cell_type": "code",
   "execution_count": 228,
   "metadata": {},
   "outputs": [],
   "source": [
    "#USING ARRAYS\n",
    "XMNB = dfpermits2['text']\n",
    "yMNB = dfpermits2['cat_time']"
   ]
  },
  {
   "cell_type": "code",
   "execution_count": 229,
   "metadata": {},
   "outputs": [],
   "source": [
    "from sklearn.model_selection import train_test_split\n",
    "X_train, X_test, y_train, y_test = train_test_split(XMNB, yMNB, test_size=0.2,  random_state = 0)"
   ]
  },
  {
   "cell_type": "code",
   "execution_count": 230,
   "metadata": {},
   "outputs": [],
   "source": [
    "from sklearn.feature_extraction.text import TfidfVectorizer\n",
    "vectorizer = TfidfVectorizer()\n",
    "train_features = vectorizer.fit_transform(X_train)\n",
    "test_features = vectorizer.transform(X_test)"
   ]
  },
  {
   "cell_type": "code",
   "execution_count": 231,
   "metadata": {},
   "outputs": [
    {
     "data": {
      "text/plain": [
       "MultinomialNB(alpha=1.0, class_prior=None, fit_prior=True)"
      ]
     },
     "execution_count": 231,
     "metadata": {},
     "output_type": "execute_result"
    }
   ],
   "source": [
    "from sklearn.naive_bayes import MultinomialNB\n",
    "\n",
    "naive_bayes = MultinomialNB()\n",
    "naive_bayes.fit(train_features, y_train)"
   ]
  },
  {
   "cell_type": "code",
   "execution_count": 232,
   "metadata": {},
   "outputs": [],
   "source": [
    "y_pred = naive_bayes.predict(test_features)"
   ]
  },
  {
   "cell_type": "code",
   "execution_count": 233,
   "metadata": {},
   "outputs": [
    {
     "name": "stdout",
     "output_type": "stream",
     "text": [
      "Accuracy score:  0.565452578434908\n",
      "Recall score:  0.565452578434908\n",
      "Precision score:  0.5145389014180451\n",
      "F1 score:  0.42896953705075963\n"
     ]
    },
    {
     "name": "stderr",
     "output_type": "stream",
     "text": [
      "C:\\Users\\Anthony\\Documents\\anaconda3\\lib\\site-packages\\sklearn\\metrics\\_classification.py:1272: UndefinedMetricWarning: Precision is ill-defined and being set to 0.0 in labels with no predicted samples. Use `zero_division` parameter to control this behavior.\n",
      "  _warn_prf(average, modifier, msg_start, len(result))\n"
     ]
    }
   ],
   "source": [
    "from sklearn.metrics import accuracy_score, recall_score, precision_score, f1_score\n",
    "\n",
    "print(\"Accuracy score: \", accuracy_score(y_test, y_pred))\n",
    "print(\"Recall score: \", recall_score(y_test, y_pred, average = 'weighted'))\n",
    "print(\"Precision score: \", precision_score(y_test, y_pred, average = 'weighted'))\n",
    "print(\"F1 score: \", f1_score(y_test, y_pred, average = 'weighted'))"
   ]
  },
  {
   "cell_type": "code",
   "execution_count": 236,
   "metadata": {},
   "outputs": [
    {
     "name": "stdout",
     "output_type": "stream",
     "text": [
      "                   precision    recall  f1-score   support\n",
      "\n",
      "          1+ year       0.00      0.00      0.00       489\n",
      "       1-2 months       0.00      0.00      0.00      1331\n",
      "        1-2 weeks       0.96      0.01      0.03      2073\n",
      "2 weeks - 1 month       1.00      0.00      0.01      1707\n",
      "       2-3 months       0.00      0.00      0.00       700\n",
      "       3-4 months       0.00      0.00      0.00       356\n",
      "       4-5 months       0.00      0.00      0.00       312\n",
      "       5-6 months       0.00      0.00      0.00       258\n",
      "  6 months-a year       0.85      0.11      0.20       870\n",
      " Less than a week       0.21      0.06      0.09      4257\n",
      "         Same day       0.58      0.99      0.73     15377\n",
      "\n",
      "         accuracy                           0.57     27730\n",
      "        macro avg       0.33      0.11      0.10     27730\n",
      "     weighted avg       0.51      0.57      0.43     27730\n",
      "\n",
      "[[    0     0     0     0     0     0     0     0     4    46   439]\n",
      " [    0     0     0     0     0     0     0     0     2   160  1169]\n",
      " [    0     0    27     0     0     0     0     0     2   164  1880]\n",
      " [    0     0     0     5     0     0     0     0     0   183  1519]\n",
      " [    0     0     0     0     0     0     0     0     2    85   613]\n",
      " [    0     0     0     0     0     0     0     0     1    60   295]\n",
      " [    0     2     0     0     0     0     0     0     4    41   265]\n",
      " [    0     0     0     0     0     0     0     0     2    32   224]\n",
      " [    0     1     0     0     0     0     0     0    97    86   686]\n",
      " [    0     0     0     0     0     0     0     0     0   254  4003]\n",
      " [    0     0     1     0     0     0     0     0     0    79 15297]]\n",
      "accuracy is 0.565452578434908\n"
     ]
    }
   ],
   "source": [
    "from sklearn.metrics import confusion_matrix\n",
    "from sklearn.metrics import classification_report\n",
    "# Summary of the predictions made by the classifier\n",
    "print(classification_report(y_test, y_pred))\n",
    "print(confusion_matrix(y_test, y_pred))\n",
    "# Accuracy score\n",
    "from sklearn.metrics import accuracy_score\n",
    "print('accuracy is',accuracy_score(y_pred,y_test))"
   ]
  },
  {
   "cell_type": "code",
   "execution_count": 235,
   "metadata": {},
   "outputs": [
    {
     "data": {
      "image/png": "[encoded data removed]",
      "text/plain": [
       "<Figure size 432x288 with 1 Axes>"
      ]
     },
     "metadata": {},
     "output_type": "display_data"
    }
   ],
   "source": [
    "from sklearn.metrics import confusion_matrix\n",
    "mat = confusion_matrix(y_test, y_pred)\n",
    "sns.heatmap(mat.T, square=True, annot=True, fmt='d', cbar=False)\n",
    "plt.xlabel('true label')\n",
    "plt.ylabel('predicted label');"
   ]
  },
  {
   "cell_type": "markdown",
   "metadata": {},
   "source": [
    "Decision Tree (For numerical values)\n",
    "---"
   ]
  },
  {
   "cell_type": "code",
   "execution_count": 173,
   "metadata": {},
   "outputs": [],
   "source": [
    "import os\n",
    "import numpy as np\n",
    "import pandas as pd\n",
    "import matplotlib.pyplot as plt\n",
    "import seaborn as sns\n",
    "#import packages and libraries\n",
    "#setting up initialization"
   ]
  },
  {
   "cell_type": "code",
   "execution_count": 174,
   "metadata": {},
   "outputs": [],
   "source": [
    "# Bagged Decision Trees for Classification\n",
    "from pandas import read_csv\n",
    "from sklearn.model_selection import KFold\n",
    "from sklearn.model_selection import cross_val_score\n",
    "from sklearn.ensemble import BaggingClassifier\n",
    "from sklearn.tree import DecisionTreeClassifier"
   ]
  },
  {
   "cell_type": "code",
   "execution_count": 175,
   "metadata": {},
   "outputs": [],
   "source": [
    "from sklearn import preprocessing\n",
    "from sklearn.preprocessing import LabelEncoder\n",
    "from collections import defaultdict"
   ]
  },
  {
   "cell_type": "code",
   "execution_count": 176,
   "metadata": {},
   "outputs": [],
   "source": [
    "#label encoding\n",
    "for column in dfpermits.columns:\n",
    "    le = LabelEncoder()\n",
    "    dfpermits[column] = le.fit_transform(dfpermits[column].astype(str))"
   ]
  },
  {
   "cell_type": "code",
   "execution_count": 177,
   "metadata": {},
   "outputs": [
    {
     "name": "stderr",
     "output_type": "stream",
     "text": [
      "C:\\Users\\Anthony\\Documents\\anaconda3\\lib\\site-packages\\sklearn\\model_selection\\_split.py:296: FutureWarning: Setting a random_state has no effect since shuffle is False. This will raise an error in 0.24. You should leave random_state to its default (None), or set shuffle=True.\n",
      "  FutureWarning\n"
     ]
    }
   ],
   "source": [
    "seed = 7\n",
    "kfold = KFold(n_splits=10, random_state=seed)\n",
    "cart = DecisionTreeClassifier()\n",
    "num_trees = 100"
   ]
  },
  {
   "cell_type": "code",
   "execution_count": 178,
   "metadata": {},
   "outputs": [],
   "source": [
    "model = BaggingClassifier(base_estimator=cart, n_estimators=num_trees, random_state=seed)\n",
    "results = cross_val_score(model, X, y, cv=kfold)"
   ]
  },
  {
   "cell_type": "code",
   "execution_count": 179,
   "metadata": {},
   "outputs": [
    {
     "name": "stdout",
     "output_type": "stream",
     "text": [
      "0.5583327714268674\n"
     ]
    }
   ],
   "source": [
    "print(results.mean())"
   ]
  },
  {
   "cell_type": "code",
   "execution_count": 181,
   "metadata": {},
   "outputs": [
    {
     "name": "stderr",
     "output_type": "stream",
     "text": [
      "C:\\Users\\Anthony\\Documents\\anaconda3\\lib\\site-packages\\sklearn\\model_selection\\_split.py:296: FutureWarning: Setting a random_state has no effect since shuffle is False. This will raise an error in 0.24. You should leave random_state to its default (None), or set shuffle=True.\n",
      "  FutureWarning\n"
     ]
    },
    {
     "name": "stdout",
     "output_type": "stream",
     "text": [
      "0.5570602732009994\n"
     ]
    }
   ],
   "source": [
    "# Random Forest Classification\n",
    "from pandas import read_csv\n",
    "from sklearn.model_selection import KFold\n",
    "from sklearn.model_selection import cross_val_score\n",
    "from sklearn.ensemble import RandomForestClassifier\n",
    "num_trees = 100\n",
    "max_features = 3\n",
    "kfold = KFold(n_splits=10, random_state=7)\n",
    "model = RandomForestClassifier(n_estimators=num_trees, max_features=max_features)\n",
    "results = cross_val_score(model, X, y, cv=kfold)\n",
    "print(results.mean())"
   ]
  },
  {
   "cell_type": "code",
   "execution_count": 184,
   "metadata": {},
   "outputs": [
    {
     "name": "stdout",
     "output_type": "stream",
     "text": [
      "[0.04389836 0.27135763 0.0360191  0.03659784 0.16601553 0.20004423\n",
      " 0.08122525 0.00895924 0.00877907 0.06251929 0.08458446]\n"
     ]
    }
   ],
   "source": [
    "model = RandomForestClassifier(n_estimators=100)\n",
    "model.fit(X, y)\n",
    "print(model.feature_importances_)"
   ]
  },
  {
   "cell_type": "markdown",
   "metadata": {},
   "source": [
    "### 4. Conclusions\n",
    "---"
   ]
  },
  {
   "cell_type": "markdown",
   "metadata": {},
   "source": [
    "The evaluation metrics used in this project would be the mix of accuracy, precision, recall, and F-1 score: I chose to measure the effectiveness of a good prediction using F-1 score, because the class distribution of waiting time is highly imbalanced. Moreover, the algorithm developed for this dataset is based on buildings' features to determine average waiting time, so information about both Precision and Recall is necessary to understand how precise the algorithm is as well as the fraction of True Positive events has been successfully recognized.\n",
    "\n",
    "The methods that I have chosen to divide the data is the test_train_split from scikit learn. This method was used for KNN, Gaussian NB, and Multinomial NB. I chose these methods as they are the most simple in splitting up the data and what I are most used to. For the Decision Tree and Random Forest Tree, I used a KFold cross validation to split up the data because of how they did it in the practical ML problem. \n",
    "\n",
    "The top 5 most important attributes for the dataset were street number, estimated cost, revised cost, zipcode, and proposed units. To us, street number doesn't really make sense because of the fact that street number doesn't really mean anything without a street name. This is because street numbers can be repeated multiple times. For estimated cost and revised cost, these are pretty important due to the fact that these can be used to help the approval process when someone has to plan their project out. The government needs to see that there's a plan before handing out permits and by having both these costs down, it could potentially make it faster. Zipcode is important because of certain locations potentially having a higher chance in getting approved much faster. For example, what if an area such as downtown gets more building permits due to it having more development since it's such a popular area. Proposed units is also an important feature because proposed units could affect their building permit issue date due to things such as building another floor or an entire building could take much longer to approve compared to something like just putting a sign up on their property. \n",
    "\n",
    "From the 3 models, I can see that the accuracy for each one isn't really good. One thing to state about this is that all the models would use numerical data except for Multinomial NB. The best one that I had was the Multinomial Naive Bayes one but only by 0.5. This shows that the models weren't really good at predicting but this could also be due to the imbalance within the dataset. If I didn't spread it out, the classifiers would predict at almost 97% for each of the classifiers and I felt this wasn't accurate as I aren't predicting the other classes within the dataset. From what I can see, each accuracy score for the different methods are hovering between .53 - .56. This means that the models can predict about half the testing correctly. When looking at the classification matrix however, KNN was able to predict all the types of classes while things like GaussianNB missed a couple and had lower accuracy in terms of accuracy. When running the Multinomial Naive Bayes, it only predicted 4 of the classes but this could be due to how I cleaned the data for that problem. I also incorporated more columns into it and converted them all to string in order to read it into the model. For the decision tree and random forest models, the accuracy for both were around the same at .558 and .557 respectively with random forest being slightly lower. The columns used in this were the same as KNN and the GaussianNB models. Due to the way that the data is split, I didn't know how to do the classification matrix and confusion matrix as the data isn't really split up. When trying to look at a visualization for a confusion matrix for NB and KNN models, it's somewhat hard to visualize it as the models don't do a very good job at predicting. In both KNN and Naive Bayes models, the F-1 Scores are both around 0.43. It may indicates that the model is not accurate.\n",
    "\n",
    "There really weren't many advantages to each model in terms of accuracy because of how they all predicted the same. However, KNN did have more variety in the classes they predicted. F-1 score is used to ensure the accuracy I find is correct. Another thing that both KNN and NB does better than the decision and random forest tree is that it is both simple and very fast. When running the decision and random forest tree, it took my machine quite awhile to run the models. \n",
    "\n",
    "For improvements, I feel as though there was a lot that I could've changed. For example, I think that I could’ve done Naive bayes in a much better way. For example, if I did it by hand and did all the calculations manually, I could’ve probably done something where I could’ve used both the integers and string in the data set. Another thing that I could improve on too is the way I cleaned my data as I have eliminated a lot of the other permit types in order to not have to fill in values because things like the columns where its strings can’t be filled. Another thing that I could've done is to try and standardize the data cleansing as each method had different values dropped and replaced. Something standard could've helped us compare much better. A third thing that I wish I could've done is to explore more into other complex models to predict. "
   ]
  },
  {
   "cell_type": "markdown",
   "metadata": {},
   "source": [
    "### 5. Deployment\n",
    "---"
   ]
  },
  {
   "cell_type": "markdown",
   "metadata": {},
   "source": [
    "The model isn't very useful for the citizens and companies that are looking to get an estimate of the amount of time it would take to get their building permit issued. This is mostly due to the fact that the accuracy for prediction isn't very good and that the dataset also had a lot of problems with imbalance. This model's value would be measured based on how accurate the bins were when comparing the prediction vs the actual because people will only care about how well the model can predict based on information fed to it. I think that this model should be deployed on the website after someone puts in their information for an actual permit in order to get an estimate of how long it would take. This way, people aren't just randomly putting in information to get a guess and have to put in real information that they would've used on an actual application. I think that they should collect other data such as if there isn't an increase in the proposed units, to just put a 0 in there. They need to make it mandatory so that most of the null values within the dataset are not left null but rather put in with a 0 if it's an empty lot of there's nothing changed with it rather than have it null as I can't sift through each row guessing if there's actual change or not. Another thing that I think should be recorded is potentially the estimated length of the project as this could be useful in determining time issued because longer projects could take more time to review. Another type of data that should be collected is to increase some of the variety of construction type and permit type to help differentiate some of the types. I think that this model should be updated about every half year to a full year because within those times, there's a lot of data that can be collected because people will be doing renovations year round and will need a permit for that."
   ]
  },
  {
   "cell_type": "markdown",
   "metadata": {},
   "source": [
    "### 6. Challenges\n",
    "---"
   ]
  },
  {
   "cell_type": "markdown",
   "metadata": {},
   "source": [
    "The biggest challenge that I faced was with the dataset. When cleaning, I had to be careful with what I did with it because if I dropped too much, I could end up deleting a lot of valuable data. Another thing with cleaning was that I had to be careful with how I would replace certain values as it wouldn’t make much sense to replace with things like a mean or mode. the dataset also has an imbalance of data where the majority of the time that it took to file and receive the permit was under a week. Almost 90% of the data fell in that region, causing a major issue when trying to train the machine as they would only predict that class every time and not the others. \n",
    "\n",
    "Challenges that I had with the algorithms were figuring out what I could implement. I were planning on doing something like trying to predict the days that it would take to obtain a permit but there were no correlations within the data. Therefore, I felt like I couldn't really use linear regression as it wouldn't be effective at all. This would lead us to trying different kinds of classification problems. For us, figuring out what kind of classifications I could do and with what features were also a bit difficult. Another part was the coding aspect of this project. I ran into many errors when trying to code the Naive Bayes because I didn’t know how to try and fit all the features that I wanted into something like multinomial bayes. One way that this could be solved is by manually coding multiple functions to calculate the probabilities of the features given certain conditions. \n",
    "\n",
    "A major issue I had with the algorithms is transforming data into the appropriate formats that are compatible with the input of the Decision Tree algorithm. The algorithm accepts inputs with numerical values only, while the columns I chose to pass on into the algorithm contain a mix of numerical, categorical, and date-time data. With that being said, I ran into the issues of converting columns into numerical format. I are continuing to find out possible approaches and try them on the data, including the approaches of mapping, encoding, or using pre-processing packages. The same thing would happen for Naive Bayes where the data where both numerical and strings, causing it to be difficult to transform the data in order to take in all the features."
   ]
  }
 ],
 "metadata": {
  "kernelspec": {
   "display_name": "Python 3",
   "language": "python",
   "name": "python3"
  },
  "language_info": {
   "codemirror_mode": {
    "name": "ipython",
    "version": 3
   },
   "file_extension": ".py",
   "mimetype": "text/x-python",
   "name": "python",
   "nbconvert_exporter": "python",
   "pygments_lexer": "ipython3",
   "version": "3.7.6"
  }
 },
 "nbformat": 4,
 "nbformat_minor": 4
}
